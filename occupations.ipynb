{
  "cells": [
    {
      "cell_type": "markdown",
      "id": "6857504c-31f0-41dc-9247-2c0316a8fc50",
      "metadata": {
        "id": "6857504c-31f0-41dc-9247-2c0316a8fc50"
      },
      "source": [
        "# Homework 02"
      ]
    },
    {
      "cell_type": "markdown",
      "source": [
        "## **Part 1 - Highest and Lowest Annual Wage for Computer and Data Occupations**"
      ],
      "metadata": {
        "id": "HgtX1cM_9lvS"
      },
      "id": "HgtX1cM_9lvS"
    },
    {
      "cell_type": "code",
      "source": [
        "import csv"
      ],
      "metadata": {
        "id": "jrYJzQY23QOd"
      },
      "id": "jrYJzQY23QOd",
      "execution_count": null,
      "outputs": []
    },
    {
      "cell_type": "code",
      "execution_count": null,
      "id": "ef325df0-23aa-4a67-9056-b1271767446b",
      "metadata": {
        "id": "ef325df0-23aa-4a67-9056-b1271767446b"
      },
      "outputs": [],
      "source": [
        "current_lowest = float(\"inf\")\n",
        "current_highest = float(\"-inf\")\n",
        "title_lowest = \"\"\n",
        "title_highest = \"\"\n",
        "\n",
        "with open('/content/occupations-truncated.csv', 'r') as file:\n",
        "    my_reader = csv.reader(file, delimiter=',')\n",
        "    for row in my_reader:\n",
        "      title = row[1].lower()\n",
        "      if row[2] == \"detail\" and (\"data\" in title or \"computer\" in title):\n",
        "        annual_mean_wage = row[4].replace(\"$\",\"\")\n",
        "        annual_mean_wage = int(annual_mean_wage.replace(\",\",\"\"))\n",
        "        if annual_mean_wage < current_lowest:\n",
        "          current_lowest = annual_mean_wage\n",
        "          title_lowest = row[1]\n",
        "        if annual_mean_wage > current_highest:\n",
        "          current_highest = annual_mean_wage\n",
        "          title_highest = row[1]"
      ]
    },
    {
      "cell_type": "code",
      "source": [
        "print(\"Occupation title and Annual mean wage for the highest Annual mean wage: \", (title_highest,current_highest))"
      ],
      "metadata": {
        "colab": {
          "base_uri": "https://localhost:8080/"
        },
        "id": "T2skJNfy3h6B",
        "outputId": "bee6c2b9-ecd9-4c47-d9e8-dc07e74047e9"
      },
      "id": "T2skJNfy3h6B",
      "execution_count": null,
      "outputs": [
        {
          "output_type": "stream",
          "name": "stdout",
          "text": [
            "Occupation title and Annual mean wage for the highest Annual mean wage:  ('Computer and Information Systems Managers', 161730)\n"
          ]
        }
      ]
    },
    {
      "cell_type": "code",
      "source": [
        "print(\"Occupation title and Annual mean wage for the lowest Annual mean wage: \", (title_lowest,current_lowest))"
      ],
      "metadata": {
        "colab": {
          "base_uri": "https://localhost:8080/"
        },
        "id": "HdCJHKzx3lqC",
        "outputId": "f2ac028d-cd93-4867-eaee-7273e8080419"
      },
      "id": "HdCJHKzx3lqC",
      "execution_count": null,
      "outputs": [
        {
          "output_type": "stream",
          "name": "stdout",
          "text": [
            "Occupation title and Annual mean wage for the lowest Annual mean wage:  ('Data Entry Keyers', 35850)\n"
          ]
        }
      ]
    },
    {
      "cell_type": "markdown",
      "source": [
        "## **Part 3 - nelta.py and Occupations with Annual Wage > $200,000**"
      ],
      "metadata": {
        "id": "o1povPTz9YjY"
      },
      "id": "o1povPTz9YjY"
    },
    {
      "cell_type": "code",
      "source": [
        "import nelta as nt"
      ],
      "metadata": {
        "id": "neZW1rheKGFy"
      },
      "id": "neZW1rheKGFy",
      "execution_count": 1,
      "outputs": []
    },
    {
      "cell_type": "code",
      "source": [
        "## TODO: modify the path\n",
        "table = nt.read_csv(\"/content/occupations-truncated.csv\")"
      ],
      "metadata": {
        "id": "P_aC2TSoRGb7"
      },
      "id": "P_aC2TSoRGb7",
      "execution_count": 2,
      "outputs": []
    },
    {
      "cell_type": "code",
      "source": [
        "# display the number of rows and columns for your Table\n",
        "\n",
        "table.shape()"
      ],
      "metadata": {
        "colab": {
          "base_uri": "https://localhost:8080/"
        },
        "id": "bpWMs-YSRRbs",
        "outputId": "99a52cc1-77f0-45d9-b4ae-deb67f75169c"
      },
      "id": "bpWMs-YSRRbs",
      "execution_count": 3,
      "outputs": [
        {
          "output_type": "execute_result",
          "data": {
            "text/plain": [
              "(1034, 5)"
            ]
          },
          "metadata": {},
          "execution_count": 3
        }
      ]
    },
    {
      "cell_type": "code",
      "source": [
        "# show the columns in your Table\n",
        "table.columns"
      ],
      "metadata": {
        "colab": {
          "base_uri": "https://localhost:8080/"
        },
        "id": "ghVyDcwHRY7t",
        "outputId": "b95cd63b-cb39-4e2a-cd60-bb96af0d12c3"
      },
      "id": "ghVyDcwHRY7t",
      "execution_count": 4,
      "outputs": [
        {
          "output_type": "execute_result",
          "data": {
            "text/plain": [
              "['Occupation code',\n",
              " 'Occupation title',\n",
              " 'Level',\n",
              " 'Employment',\n",
              " 'Annual mean wage']"
            ]
          },
          "metadata": {},
          "execution_count": 4
        }
      ]
    },
    {
      "cell_type": "code",
      "source": [
        "#  display the first 4 rows of the dataset\n",
        "print(table.head(4))"
      ],
      "metadata": {
        "colab": {
          "base_uri": "https://localhost:8080/"
        },
        "id": "tNDSMGnvRczz",
        "outputId": "a1254462-9fe3-462b-a8ce-3ac3db20a753"
      },
      "id": "tNDSMGnvRczz",
      "execution_count": 5,
      "outputs": [
        {
          "output_type": "stream",
          "name": "stdout",
          "text": [
            "                                   Occupation code                    Occupation title                   Level                              Employment                         Annual mean wage                   \n",
            "0                                  00-0000                            All Occupations                    total                              139099570.0                        $56,310                            \n",
            "1                                  11-0000                            Management Occupations             major                              7947300.0                          $126,480                           \n",
            "2                                  11-1000                            Top Executives                     minor                              2601070.0                          $129,920                           \n",
            "3                                  11-1011                            Chief Executives                   detail                             202360.0                           $197,840                           \n",
            "\n"
          ]
        }
      ]
    },
    {
      "cell_type": "code",
      "source": [
        "# save the last 4 rows of the data set into a variable called last_four\n",
        "last_four = table.tail(4)\n",
        "print(last_four)"
      ],
      "metadata": {
        "id": "6j9BmfwLRmoD",
        "colab": {
          "base_uri": "https://localhost:8080/"
        },
        "outputId": "d98a340d-6474-492c-b776-97252c8dd278"
      },
      "id": "6j9BmfwLRmoD",
      "execution_count": 6,
      "outputs": [
        {
          "output_type": "stream",
          "name": "stdout",
          "text": [
            "                                   Occupation code                    Occupation title                   Level                              Employment                         Annual mean wage                   \n",
            "1030                               53-7073                            Wellhead Pumpers                   detail                             12050.0                            $60,500                            \n",
            "1031                               53-7081                            Refuse and Recyclable Material Collectorsdetail                             120850.0                           $42,620                            \n",
            "1032                               53-7121                            Tank Car, Truck, and Ship Loaders  detail                             12610.0                            $50,670                            \n",
            "1033                               53-7199                            Material Moving Workers, All Other detail                             26300.0                            $37,770                            \n",
            "\n"
          ]
        }
      ]
    },
    {
      "cell_type": "code",
      "source": [
        "# show only the label (\"index\") and Employment column of last_four as a LabeledList (no column name needed)\n",
        "print(last_four['Employment'])"
      ],
      "metadata": {
        "colab": {
          "base_uri": "https://localhost:8080/"
        },
        "id": "uXehkM2K2qzf",
        "outputId": "07f88599-59d7-4267-8547-6adced15ac20"
      },
      "id": "uXehkM2K2qzf",
      "execution_count": 7,
      "outputs": [
        {
          "output_type": "stream",
          "name": "stdout",
          "text": [
            "1030  12050.0\n",
            "1031 120850.0\n",
            "1032  12610.0\n",
            "1033  26300.0\n",
            "\n"
          ]
        }
      ]
    },
    {
      "cell_type": "code",
      "source": [
        "#  loop over the Employment column as a LabeledList and print out each value\n",
        "for value in last_four['Employment']:\n",
        "  print(value)"
      ],
      "metadata": {
        "colab": {
          "base_uri": "https://localhost:8080/"
        },
        "id": "ZaFELmVDS95O",
        "outputId": "cebeb28b-f122-4f4e-f88c-9cac1ed412d6"
      },
      "id": "ZaFELmVDS95O",
      "execution_count": 8,
      "outputs": [
        {
          "output_type": "stream",
          "name": "stdout",
          "text": [
            "12050.0\n",
            "120850.0\n",
            "12610.0\n",
            "26300.0\n"
          ]
        }
      ]
    },
    {
      "cell_type": "code",
      "source": [
        "# show the label (\"index\") and both the Occupation title and Employment columns of last_four as a Table (include column names)\n",
        "print(last_four[[\"Occupation title\",\"Employment\"]])"
      ],
      "metadata": {
        "colab": {
          "base_uri": "https://localhost:8080/"
        },
        "id": "9jXabgxkUD_q",
        "outputId": "639f7653-e47f-412a-d2cc-b9b110dd820c"
      },
      "id": "9jXabgxkUD_q",
      "execution_count": 9,
      "outputs": [
        {
          "output_type": "stream",
          "name": "stdout",
          "text": [
            "                                   Occupation title                   Employment                         \n",
            "1030                               Wellhead Pumpers                   12050.0                            \n",
            "1031                               Refuse and Recyclable Material Collectors120850.0                           \n",
            "1032                               Tank Car, Truck, and Ship Loaders  12610.0                            \n",
            "1033                               Material Moving Workers, All Other 26300.0                            \n",
            "\n"
          ]
        }
      ]
    },
    {
      "cell_type": "code",
      "source": [
        "# using your original, unaltered Table , find all rows with Level detail and save to a variable called details\n",
        "\n",
        "temp = []\n",
        "detail_bool = table['Level']==\"detail\"\n",
        "for val in detail_bool:\n",
        "  temp.append(eval(val))\n",
        "\n",
        "details = table[temp]"
      ],
      "metadata": {
        "id": "dzn25HRkXiFy"
      },
      "id": "dzn25HRkXiFy",
      "execution_count": 10,
      "outputs": []
    },
    {
      "cell_type": "code",
      "source": [
        "# find the number of rows in your details Table :\n",
        "details.shape()[0]"
      ],
      "metadata": {
        "colab": {
          "base_uri": "https://localhost:8080/"
        },
        "id": "3ACxp0yM0dfY",
        "outputId": "2f6ce25d-d0a3-4387-b651-7789ff550e28"
      },
      "id": "3ACxp0yM0dfY",
      "execution_count": 11,
      "outputs": [
        {
          "output_type": "execute_result",
          "data": {
            "text/plain": [
              "772"
            ]
          },
          "metadata": {},
          "execution_count": 11
        }
      ]
    },
    {
      "cell_type": "code",
      "source": [
        "#  using your details Table , use the column Employment use the less than operator ( < ) to compare with 500… save this to a variable called my_filter\n",
        "my_filter = details['Employment']<500"
      ],
      "metadata": {
        "id": "5hJ35ce637fw"
      },
      "id": "5hJ35ce637fw",
      "execution_count": 12,
      "outputs": []
    },
    {
      "cell_type": "code",
      "source": [
        "# get the type of my_filter using the function type (it should be a LabeledList)\n",
        "type(my_filter) "
      ],
      "metadata": {
        "colab": {
          "base_uri": "https://localhost:8080/"
        },
        "id": "lzhlBMOw4VU2",
        "outputId": "88f19c97-d06e-41aa-a9c4-aa84299e4a9e"
      },
      "id": "lzhlBMOw4VU2",
      "execution_count": 13,
      "outputs": [
        {
          "output_type": "execute_result",
          "data": {
            "text/plain": [
              "nelta.LabeledList"
            ]
          },
          "metadata": {},
          "execution_count": 13
        }
      ]
    },
    {
      "cell_type": "code",
      "source": [
        "#  index into your my_filter with 3 (you should get False )\n",
        "my_filter.values()[3]"
      ],
      "metadata": {
        "colab": {
          "base_uri": "https://localhost:8080/",
          "height": 35
        },
        "id": "lmmICB8R4d_t",
        "outputId": "df214850-241f-495d-9d2e-0b4e353d08b6"
      },
      "id": "lmmICB8R4d_t",
      "execution_count": 14,
      "outputs": [
        {
          "output_type": "execute_result",
          "data": {
            "application/vnd.google.colaboratory.intrinsic+json": {
              "type": "string"
            },
            "text/plain": [
              "'False'"
            ]
          },
          "metadata": {},
          "execution_count": 14
        }
      ]
    },
    {
      "cell_type": "code",
      "source": [
        "# use your my_filter variable as the index to your details Table – this translates to showing all occupations in your details Table that have Employment less than 500\n",
        "\n",
        "temp = []\n",
        "for val in my_filter.values():\n",
        "  temp.append(eval(val))\n",
        "\n",
        "print(details[temp])"
      ],
      "metadata": {
        "colab": {
          "base_uri": "https://localhost:8080/"
        },
        "id": "kGb7SfpH5U4t",
        "outputId": "43f8c67c-98a8-4fbb-eff2-8061a15be40e"
      },
      "id": "kGb7SfpH5U4t",
      "execution_count": 15,
      "outputs": [
        {
          "output_type": "stream",
          "name": "stdout",
          "text": [
            "                                   Occupation code                    Occupation title                   Level                              Employment                         Annual mean wage                   \n",
            "508                                35-2013                            Cooks, Private Household           detail                             320.0                              $46,810                            \n",
            "916                                51-7032                            Patternmakers, Wood                detail                             190.0                              $60,750                            \n",
            "\n"
          ]
        }
      ]
    },
    {
      "cell_type": "code",
      "source": [
        "#  perform the same calculation as above, but save your resulting Table into a variable called rare_occ\n",
        "\n",
        "temp = []\n",
        "for val in my_filter.values():\n",
        "  temp.append(eval(val))\n",
        "\n",
        "rare_occ = details[temp]"
      ],
      "metadata": {
        "id": "CcwKDpZQ5_El"
      },
      "id": "CcwKDpZQ5_El",
      "execution_count": 16,
      "outputs": []
    },
    {
      "cell_type": "code",
      "source": [
        "# using your rare_occ table, transform the Occupation title to uppercase by using map on the column (that is, index into the Table first, and then use map )\n",
        "def upper(s):\n",
        "  s = s.upper()\n",
        "  return s\n",
        "print(rare_occ['Occupation title'].map(upper))"
      ],
      "metadata": {
        "colab": {
          "base_uri": "https://localhost:8080/"
        },
        "id": "0goKRjDB6J3s",
        "outputId": "a55f57b5-b61b-4b85-f0b6-e39266e370e7"
      },
      "id": "0goKRjDB6J3s",
      "execution_count": 18,
      "outputs": [
        {
          "output_type": "stream",
          "name": "stdout",
          "text": [
            "508 COOKS, PRIVATE HOUSEHOLD\n",
            "916      PATTERNMAKERS, WOOD\n",
            "\n"
          ]
        }
      ]
    },
    {
      "cell_type": "code",
      "source": [
        "# this is a tricky one! combine some of the functionality from the previous steps to find the occupation data that have an\n",
        "# Annual mean wage greater than 200,000 (hint, you'll have to convert the wage to a numeric type)\n",
        "\n",
        "def money_to_number(s):\n",
        "  s = s.replace(\"$\",\"\")\n",
        "  s = s.replace(\",\",\"\")\n",
        "  return float(s)\n",
        "money = table['Annual mean wage'].map(money_to_number)\n",
        "money_bool = money > 200000\n",
        "\n",
        "temp = []\n",
        "for val in money_bool.values():\n",
        "  temp.append(eval(val))\n",
        "\n",
        "greater_than_200k = table[temp]\n",
        "print(greater_than_200k)"
      ],
      "metadata": {
        "colab": {
          "base_uri": "https://localhost:8080/"
        },
        "id": "m5_CQNVv71rU",
        "outputId": "0e3b0692-dfc2-4518-bc48-068701c1eddc"
      },
      "id": "m5_CQNVv71rU",
      "execution_count": 21,
      "outputs": [
        {
          "output_type": "stream",
          "name": "stdout",
          "text": [
            "                                   Occupation code                    Occupation title                   Level                              Employment                         Annual mean wage                   \n",
            "383                                29-1022                            Oral and Maxillofacial Surgeons    detail                             4120.0                             $234,990                           \n",
            "384                                29-1023                            Orthodontists                      detail                             5040.0                             $237,990                           \n",
            "385                                29-1024                            Prosthodontists                    detail                             530.0                              $214,870                           \n",
            "407                                29-1211                            Anesthesiologists                  detail                             28590.0                            $271,440                           \n",
            "408                                29-1215                            Family Medicine Physicians         detail                             98590.0                            $214,370                           \n",
            "409                                29-1216                            General Internal Medicine Physiciansdetail                             50600.0                            $210,960                           \n",
            "410                                29-1218                            Obstetricians and Gynecologists    detail                             18900.0                            $239,120                           \n",
            "412                                29-1223                            Psychiatrists                      detail                             25540.0                            $217,100                           \n",
            "413                                29-1228                            Physicians, All Other; and Ophthalmologist...detail                             375390.0                           $218,850                           \n",
            "414                                29-1248                            Surgeons, Except Ophthalmologists  detail                             37900.0                            $251,650                           \n",
            "\n"
          ]
        }
      ]
    }
  ],
  "metadata": {
    "kernelspec": {
      "display_name": "Python 3",
      "language": "python",
      "name": "python3"
    },
    "language_info": {
      "codemirror_mode": {
        "name": "ipython",
        "version": 3
      },
      "file_extension": ".py",
      "mimetype": "text/x-python",
      "name": "python",
      "nbconvert_exporter": "python",
      "pygments_lexer": "ipython3",
      "version": "3.9.10"
    },
    "colab": {
      "name": "occupations.ipynb",
      "provenance": []
    }
  },
  "nbformat": 4,
  "nbformat_minor": 5
}